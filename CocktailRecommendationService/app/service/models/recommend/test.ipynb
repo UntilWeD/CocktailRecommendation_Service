{
 "cells": [
  {
   "cell_type": "code",
   "execution_count": 15,
   "metadata": {},
   "outputs": [
    {
     "name": "stdout",
     "output_type": "stream",
     "text": [
      "Top Recommendations:\n",
      "Lone Tree Cocktail: 0.38\n",
      "Screwdriver: 0.32\n",
      "Pink Gin: 0.30\n",
      "Gin and Soda: 0.28\n",
      "Rum Screwdriver: 0.27\n"
     ]
    },
    {
     "name": "stderr",
     "output_type": "stream",
     "text": [
      "C:\\Users\\user\\AppData\\Local\\Temp\\ipykernel_27084\\592603168.py:68: FutureWarning: You are using `torch.load` with `weights_only=False` (the current default value), which uses the default pickle module implicitly. It is possible to construct malicious pickle data which will execute arbitrary code during unpickling (See https://github.com/pytorch/pytorch/blob/main/SECURITY.md#untrusted-models for more details). In a future release, the default value for `weights_only` will be flipped to `True`. This limits the functions that could be executed during unpickling. Arbitrary objects will no longer be allowed to be loaded via this mode unless they are explicitly allowlisted by the user via `torch.serialization.add_safe_globals`. We recommend you start setting `weights_only=True` for any use case where you don't have full control of the loaded file. Please open an issue on GitHub for any issues related to this experimental feature.\n",
      "  model.load_state_dict(torch.load(model_path))\n"
     ]
    }
   ],
   "source": [
    "def test_deeper_model(model_path, vectorizer_path, data_path, test_ingredients, top_n=5):\n",
    "    with open(vectorizer_path, \"rb\") as f:\n",
    "        vectorizer = pickle.load(f)\n",
    "\n",
    "    data = pd.read_csv(data_path)\n",
    "    cocktail_labels = {name: idx for idx, name in enumerate(data['name'].unique())}\n",
    "    idx_to_label = {idx: name for name, idx in cocktail_labels.items()}\n",
    "    num_classes = len(cocktail_labels)\n",
    "\n",
    "    input_size = len(vectorizer.get_feature_names_out())\n",
    "    model = DeeperMultiLabelClassifier(input_size=input_size, num_classes=num_classes)\n",
    "    model.load_state_dict(torch.load(model_path))\n",
    "    model.eval()\n",
    "\n",
    "    test_vector = vectorizer.transform([' '.join(test_ingredients)]).toarray()\n",
    "    test_tensor = torch.tensor(test_vector, dtype=torch.float32)\n",
    "\n",
    "    with torch.no_grad():\n",
    "        outputs = model(test_tensor).flatten()\n",
    "        normalized_scores = outputs / outputs.sum()  # 추천 점수 정규화\n",
    "\n",
    "    predicted_indices = torch.topk(normalized_scores, k=top_n).indices.numpy()\n",
    "\n",
    "    recommendations = []\n",
    "    for idx in predicted_indices:\n",
    "        name = idx_to_label[idx]\n",
    "        score = normalized_scores[idx].item()\n",
    "        matching_ingredients = set(test_ingredients).intersection(\n",
    "            set(data[data['name'] == name]['cleaned_ingredients'].values[0])\n",
    "        )\n",
    "        description = f\"{name} contains {', '.join(matching_ingredients)} matching your input.\"\n",
    "        recommendations.append((name, score, description))\n",
    "\n",
    "    print(\"Top Recommendations:\")\n",
    "    for name, score, description in recommendations:\n",
    "        print(f\"{name}: {score:.2f}\")\n",
    "        print(f\"Description: {description}\")\n",
    "\n",
    "\n",
    "# 실행\n",
    "if __name__ == \"__main__\":\n",
    "    test_ingredients = [\"gin\", \"lemonjuice\", \"grenadine\"]\n",
    "    test_deeper_model(\n",
    "        model_path=\"model/deeper_multi_label_model.pt\",\n",
    "        vectorizer_path=\"model/vectorizer.pkl\",\n",
    "        data_path=\"data/final_cocktails.csv\",\n",
    "        test_ingredients=test_ingredients,\n",
    "        top_n=5\n",
    "    )\n"
   ]
  }
 ],
 "metadata": {
  "kernelspec": {
   "display_name": "myenv",
   "language": "python",
   "name": "python3"
  },
  "language_info": {
   "codemirror_mode": {
    "name": "ipython",
    "version": 3
   },
   "file_extension": ".py",
   "mimetype": "text/x-python",
   "name": "python",
   "nbconvert_exporter": "python",
   "pygments_lexer": "ipython3",
   "version": "3.12.4"
  }
 },
 "nbformat": 4,
 "nbformat_minor": 2
}
