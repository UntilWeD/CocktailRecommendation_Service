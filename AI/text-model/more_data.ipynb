{
 "cells": [
  {
   "cell_type": "code",
   "execution_count": 4,
   "metadata": {},
   "outputs": [
    {
     "name": "stderr",
     "output_type": "stream",
     "text": [
      "d:\\project\\OSS_Project\\AI\\myenv\\Lib\\site-packages\\tqdm\\auto.py:21: TqdmWarning: IProgress not found. Please update jupyter and ipywidgets. See https://ipywidgets.readthedocs.io/en/stable/user_install.html\n",
      "  from .autonotebook import tqdm as notebook_tqdm\n"
     ]
    }
   ],
   "source": [
    "from konlpy.tag import Okt\n",
    "import pandas as pd\n",
    "import random\n",
    "import torch\n",
    "from transformers import AutoTokenizer, AutoModel\n",
    "from torch.utils.data import DataLoader\n",
    "import numpy as np"
   ]
  },
  {
   "cell_type": "code",
   "execution_count": 5,
   "metadata": {},
   "outputs": [],
   "source": [
    "# Okt 형태소 분석기 초기화\n",
    "okt = Okt()\n",
    "\n",
    "# 유의어 사전 정의\n",
    "synonyms = {\n",
    "    # 맛 관련\n",
    "    '달달한': ['달콤한', '달달한', '달콤달콤한', '스위트한', '달큰한'],\n",
    "    '부드러운': ['순한', '부드러운', '순하디순한', '소프트한', '매끄러운'],\n",
    "    '강한': ['독한', '강력한', '세', '독하디독한', '알콜도수가 높은'],\n",
    "    '상큼한': ['새콤한', '산뜻한', '신선한', '프레시한', '시원상큼한'],\n",
    "    '쓴': ['씁쓸한', '쌉쌀한', '쓰디쓴', '씁슬한', '쌉싸름한'],\n",
    "    \n",
    "    # 행동 관련\n",
    "    '마시': ['들이켜', '마셔', '음미하', '맛보', '즐기'],\n",
    "    '찾': ['구하', '원하', '찾아보', '알아보', '검색하'],\n",
    "    '추천': ['소개', '알려주', '추천', '제안', '안내'],\n",
    "    \n",
    "    # 문장 구조 변형용\n",
    "    '~을 원해요': ['~이 마시고 싶어요', '~을 찾고 있어요', '~은 어떠세요?', '~을 추천해주세요'],\n",
    "    '~이 있나요?': ['~을 찾고 있어요', '~을 구할 수 있을까요?', '~은 어디 있나요?']\n",
    "}"
   ]
  },
  {
   "cell_type": "code",
   "execution_count": 6,
   "metadata": {},
   "outputs": [],
   "source": [
    "def augment_korean_text(text, num_augments=2):\n",
    "    augmented_texts = set()  # 중복 제거\n",
    "    \n",
    "    # 원본 문장의 형태소 분석\n",
    "    morphs = okt.pos(text, norm=True, stem=True)\n",
    "    \n",
    "    while len(augmented_texts) < num_augments:\n",
    "        new_text = []\n",
    "        changed = False\n",
    "        \n",
    "        for word, pos in morphs:\n",
    "            if pos in ['Adjective', 'Verb'] and word in synonyms:\n",
    "                # 70% 확률로 유의어로 변경\n",
    "                if random.random() < 0.7:\n",
    "                    new_word = random.choice(synonyms[word])\n",
    "                    new_text.append(new_word)\n",
    "                    changed = True\n",
    "                else:\n",
    "                    new_text.append(word)\n",
    "            else:\n",
    "                new_text.append(word)\n",
    "        \n",
    "        # 문장 구조 변형 (30% 확률)\n",
    "        if random.random() < 0.3:\n",
    "            new_sentence = create_variant_structure(' '.join(new_text))\n",
    "        else:\n",
    "            new_sentence = ' '.join(new_text)\n",
    "            \n",
    "        # 원본과 다른 경우만 추가\n",
    "        if changed and new_sentence != text:\n",
    "            augmented_texts.add(new_sentence)\n",
    "    \n",
    "    return list(augmented_texts)\n",
    "\n",
    "def create_variant_structure(text):\n",
    "    templates = [\n",
    "        \"{}\",\n",
    "        \"혹시 {}\",\n",
    "        \"{} 있을까요?\",\n",
    "        \"{}는 어떠세요?\",\n",
    "        \"{} 마시고 싶네요.\"\n",
    "    ]\n",
    "    return random.choice(templates).format(text.rstrip('?.'))\n",
    "\n",
    "# 데이터 로드 및 증강\n",
    "df = pd.read_csv(\"data/raw_data.csv\", encoding='utf-8')\n",
    "augmented_data = {\n",
    "    \"입력 문장\": [],\n",
    "    \"도수\": [],\n",
    "    \"술 종류\": [],\n",
    "    \"맛\": []\n",
    "}\n",
    "\n",
    "# 데이터 증강 수행\n",
    "for idx, row in df.iterrows():\n",
    "    # 원본 데이터 추가\n",
    "    augmented_data[\"입력 문장\"].append(row[\"입력 문장\"])\n",
    "    augmented_data[\"도수\"].append(row[\"도수\"])\n",
    "    augmented_data[\"술 종류\"].append(row[\"술 종류\"])\n",
    "    augmented_data[\"맛\"].append(row[\"맛\"])\n",
    "    \n",
    "    # 증강 데이터 생성 및 추가\n",
    "    augmented_texts = augment_korean_text(row[\"입력 문장\"])\n",
    "    for aug_text in augmented_texts:\n",
    "        augmented_data[\"입력 문장\"].append(aug_text)\n",
    "        augmented_data[\"도수\"].append(row[\"도수\"])\n",
    "        augmented_data[\"술 종류\"].append(row[\"술 종류\"])\n",
    "        augmented_data[\"맛\"].append(row[\"맛\"])\n",
    "\n",
    "# 결과 저장\n",
    "augmented_df = pd.DataFrame(augmented_data)\n",
    "augmented_df.to_csv(\"data/augmented_data.csv\", index=False, encoding='utf-8')"
   ]
  }
 ],
 "metadata": {
  "kernelspec": {
   "display_name": "myenv",
   "language": "python",
   "name": "python3"
  },
  "language_info": {
   "codemirror_mode": {
    "name": "ipython",
    "version": 3
   },
   "file_extension": ".py",
   "mimetype": "text/x-python",
   "name": "python",
   "nbconvert_exporter": "python",
   "pygments_lexer": "ipython3",
   "version": "3.12.4"
  }
 },
 "nbformat": 4,
 "nbformat_minor": 2
}
