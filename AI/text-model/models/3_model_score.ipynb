{
 "cells": [
  {
   "cell_type": "code",
   "execution_count": 6,
   "metadata": {},
   "outputs": [
    {
     "name": "stdout",
     "output_type": "stream",
     "text": [
      "Weighted F1 Score: 0.5535042735042736\n",
      "\n",
      "Classification Report:\n",
      "              precision    recall  f1-score   support\n",
      "\n",
      "          낮은       0.70      0.88      0.78         8\n",
      "          중간       0.00      0.00      0.00         6\n",
      "          높은       0.60      0.82      0.69        11\n",
      "\n",
      "    accuracy                           0.64        25\n",
      "   macro avg       0.43      0.56      0.49        25\n",
      "weighted avg       0.49      0.64      0.55        25\n",
      "\n"
     ]
    },
    {
     "name": "stderr",
     "output_type": "stream",
     "text": [
      "c:\\Users\\user\\OneDrive\\바탕 화면\\project\\OSS_Project\\AI\\myenv\\Lib\\site-packages\\sklearn\\metrics\\_classification.py:1531: UndefinedMetricWarning: Precision is ill-defined and being set to 0.0 in labels with no predicted samples. Use `zero_division` parameter to control this behavior.\n",
      "  _warn_prf(average, modifier, f\"{metric.capitalize()} is\", len(result))\n",
      "c:\\Users\\user\\OneDrive\\바탕 화면\\project\\OSS_Project\\AI\\myenv\\Lib\\site-packages\\sklearn\\metrics\\_classification.py:1531: UndefinedMetricWarning: Precision is ill-defined and being set to 0.0 in labels with no predicted samples. Use `zero_division` parameter to control this behavior.\n",
      "  _warn_prf(average, modifier, f\"{metric.capitalize()} is\", len(result))\n",
      "c:\\Users\\user\\OneDrive\\바탕 화면\\project\\OSS_Project\\AI\\myenv\\Lib\\site-packages\\sklearn\\metrics\\_classification.py:1531: UndefinedMetricWarning: Precision is ill-defined and being set to 0.0 in labels with no predicted samples. Use `zero_division` parameter to control this behavior.\n",
      "  _warn_prf(average, modifier, f\"{metric.capitalize()} is\", len(result))\n"
     ]
    }
   ],
   "source": [
    "import torch\n",
    "from torch.utils.data import DataLoader, TensorDataset\n",
    "from transformers import AutoModelForSequenceClassification, AutoTokenizer\n",
    "import pandas as pd\n",
    "from sklearn.metrics import f1_score, classification_report\n",
    "\n",
    "# 모델과 토크나이저 로드\n",
    "model_path = r\"C:\\Users\\user\\OneDrive\\바탕 화면\\project\\OSS_Project\\AI\\text-model\\models\\bert_model\"\n",
    "model = AutoModelForSequenceClassification.from_pretrained(model_path)\n",
    "tokenizer = AutoTokenizer.from_pretrained(model_path)\n",
    "\n",
    "# 테스트 데이터 로드\n",
    "data_path = r\"C:\\Users\\user\\OneDrive\\바탕 화면\\project\\OSS_Project\\AI\\text-model\\data\\processed_data.csv\"\n",
    "data = pd.read_csv(data_path)\n",
    "\n",
    "# 입력 문장 토크나이징\n",
    "inputs = tokenizer(list(data['입력 문장']), padding=True, truncation=True, return_tensors=\"pt\")\n",
    "\n",
    "# 도수 레이블 매핑\n",
    "도수_매핑 = {'낮은': 0, '중간': 1, '높은': 2}\n",
    "labels = torch.tensor([도수_매핑[도수] for 도수 in data['도수']])\n",
    "\n",
    "# 데이터셋 생성\n",
    "dataset = TensorDataset(inputs['input_ids'], inputs['attention_mask'], labels)\n",
    "dataloader = DataLoader(dataset, batch_size=2)\n",
    "\n",
    "# 모델 평가\n",
    "model.eval()\n",
    "all_preds = []\n",
    "all_labels = []\n",
    "\n",
    "with torch.no_grad():\n",
    "    for batch in dataloader:\n",
    "        input_ids, attention_mask, labels = batch\n",
    "        outputs = model(input_ids=input_ids, attention_mask=attention_mask)\n",
    "        logits = outputs.logits\n",
    "        predictions = torch.argmax(logits, dim=-1)\n",
    "        all_preds.extend(predictions.cpu().numpy())\n",
    "        all_labels.extend(labels.cpu().numpy())\n",
    "\n",
    "# F1 스코어 및 분류 리포트 출력\n",
    "f1 = f1_score(all_labels, all_preds, average=\"weighted\")\n",
    "print(f\"Weighted F1 Score: {f1}\")\n",
    "\n",
    "print(\"\\nClassification Report:\")\n",
    "label_names = ['낮은', '중간', '높은']\n",
    "print(classification_report(all_labels, all_preds, target_names=label_names))"
   ]
  }
 ],
 "metadata": {
  "kernelspec": {
   "display_name": "myenv",
   "language": "python",
   "name": "python3"
  },
  "language_info": {
   "codemirror_mode": {
    "name": "ipython",
    "version": 3
   },
   "file_extension": ".py",
   "mimetype": "text/x-python",
   "name": "python",
   "nbconvert_exporter": "python",
   "pygments_lexer": "ipython3",
   "version": "3.12.4"
  }
 },
 "nbformat": 4,
 "nbformat_minor": 2
}
