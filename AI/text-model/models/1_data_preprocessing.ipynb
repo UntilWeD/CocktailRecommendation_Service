{
 "cells": [
  {
   "cell_type": "code",
   "execution_count": 2,
   "metadata": {},
   "outputs": [],
   "source": [
    "import pandas as pd\n",
    "from transformers import AutoTokenizer\n",
    "\n",
    "# 데이터 로드 (권한 문제 해결을 위한 경로 수정)\n",
    "data = pd.read_csv(r\"C:\\Users\\user\\OneDrive\\바탕 화면\\project\\OSS_Project\\AI\\text-model\\data\\raw_data.csv\", encoding='utf-8')\n",
    "\n",
    "# 토크나이저 로드\n",
    "tokenizer = AutoTokenizer.from_pretrained(\"bert-base-uncased\")\n",
    "\n",
    "# 텍스트 토큰화\n",
    "data['tokens'] = data['입력 문장'].apply(tokenizer.tokenize)\n",
    "\n",
    "# 저장\n",
    "data.to_csv(r\"C:\\Users\\user\\OneDrive\\바탕 화면\\project\\OSS_Project\\AI\\text-model\\data\\processed_data.csv\", encoding='utf-8', index=False)\n"
   ]
  }
 ],
 "metadata": {
  "kernelspec": {
   "display_name": "myenv",
   "language": "python",
   "name": "python3"
  },
  "language_info": {
   "codemirror_mode": {
    "name": "ipython",
    "version": 3
   },
   "file_extension": ".py",
   "mimetype": "text/x-python",
   "name": "python",
   "nbconvert_exporter": "python",
   "pygments_lexer": "ipython3",
   "version": "3.12.4"
  }
 },
 "nbformat": 4,
 "nbformat_minor": 2
}
