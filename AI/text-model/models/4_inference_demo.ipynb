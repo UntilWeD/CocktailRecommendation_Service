{
 "cells": [
  {
   "cell_type": "code",
   "execution_count": null,
   "metadata": {},
   "outputs": [],
   "source": [
    "from transformers import AutoTokenizer, AutoModelForSequenceClassification\n",
    "import torch\n",
    "\n",
    "# 모델 로드\n",
    "model = AutoModelForSequenceClassification.from_pretrained(\"models/bert_model/\")\n",
    "tokenizer = AutoTokenizer.from_pretrained(\"models/bert_model/\")\n",
    "\n",
    "# 입력 문장 처리\n",
    "sentence = \"도수가 낮고 상큼한 칵테일 추천해줘.\"\n",
    "inputs = tokenizer(sentence, return_tensors=\"pt\", padding=True, truncation=True)\n",
    "\n",
    "# 추론\n",
    "outputs = model(**inputs)\n",
    "predicted_class = torch.argmax(outputs.logits, dim=1).item()\n",
    "\n",
    "# 결과 출력\n",
    "labels = [\"낮은\", \"상큼한\", \"칵테일\"]  # 예시 라벨 매핑\n",
    "print(f\"예측 결과: {labels[predicted_class]}\")\n"
   ]
  }
 ],
 "metadata": {
  "kernelspec": {
   "display_name": "myenv",
   "language": "python",
   "name": "python3"
  },
  "language_info": {
   "name": "python",
   "version": "3.12.4"
  }
 },
 "nbformat": 4,
 "nbformat_minor": 2
}
