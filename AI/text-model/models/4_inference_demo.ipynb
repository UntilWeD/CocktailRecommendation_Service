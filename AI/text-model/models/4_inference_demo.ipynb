{
 "cells": [
  {
   "cell_type": "code",
   "execution_count": 1,
   "metadata": {},
   "outputs": [
    {
     "name": "stderr",
     "output_type": "stream",
     "text": [
      "d:\\project\\OSS_Project\\AI\\myenv\\Lib\\site-packages\\tqdm\\auto.py:21: TqdmWarning: IProgress not found. Please update jupyter and ipywidgets. See https://ipywidgets.readthedocs.io/en/stable/user_install.html\n",
      "  from .autonotebook import tqdm as notebook_tqdm\n",
      "C:\\Users\\user\\AppData\\Local\\Temp\\ipykernel_24604\\3862517431.py:19: FutureWarning: You are using `torch.load` with `weights_only=False` (the current default value), which uses the default pickle module implicitly. It is possible to construct malicious pickle data which will execute arbitrary code during unpickling (See https://github.com/pytorch/pytorch/blob/main/SECURITY.md#untrusted-models for more details). In a future release, the default value for `weights_only` will be flipped to `True`. This limits the functions that could be executed during unpickling. Arbitrary objects will no longer be allowed to be loaded via this mode unless they are explicitly allowlisted by the user via `torch.serialization.add_safe_globals`. We recommend you start setting `weights_only=True` for any use case where you don't have full control of the loaded file. Please open an issue on GitHub for any issues related to this experimental feature.\n",
      "  checkpoint = torch.load(checkpoint_path, map_location=torch.device('cpu'))\n"
     ]
    },
    {
     "name": "stdout",
     "output_type": "stream",
     "text": [
      "\n",
      "입력 문장: 도수가 낮고 상큼한 칵테일 추천해줘.\n",
      "예측 결과:\n",
      "- 도수: 높은\n",
      "- 술종류: 위스키\n",
      "- 맛: 달달한\n",
      "\n",
      "입력 문장: 달달하고 도수 높은 럼 추천해줘.\n",
      "예측 결과:\n",
      "- 도수: 높은\n",
      "- 술종류: 위스키\n",
      "- 맛: 달달한\n",
      "\n",
      "입력 문장: 부드럽고 도수 중간인 위스키 추천해줘.\n",
      "예측 결과:\n",
      "- 도수: 높은\n",
      "- 술종류: 위스키\n",
      "- 맛: 부드러운\n"
     ]
    },
    {
     "ename": "",
     "evalue": "",
     "output_type": "error",
     "traceback": [
      "\u001b[1;31mThe Kernel crashed while executing code in the current cell or a previous cell. \n",
      "\u001b[1;31mPlease review the code in the cell(s) to identify a possible cause of the failure. \n",
      "\u001b[1;31mClick <a href='https://aka.ms/vscodeJupyterKernelCrash'>here</a> for more info. \n",
      "\u001b[1;31mView Jupyter <a href='command:jupyter.viewOutput'>log</a> for further details."
     ]
    }
   ],
   "source": [
    "import torch\n",
    "from transformers import AutoTokenizer\n",
    "from model_training import MultiLabelClassifier\n",
    "import os\n",
    "\n",
    "try:\n",
    "    # 모델과 토크나이저 로드\n",
    "    current_dir = os.path.dirname(os.path.abspath(\"__file__\"))\n",
    "    model_path = os.path.join(current_dir, \"bert_model\")\n",
    "    \n",
    "    # 모델 초기화\n",
    "    model = MultiLabelClassifier(tokenizer_name=\"klue/bert-base\")\n",
    "    \n",
    "    # 체크포인트 로드\n",
    "    checkpoint_path = os.path.join(model_path, \"best_model.pt\")\n",
    "    if not os.path.exists(checkpoint_path):\n",
    "        raise FileNotFoundError(f\"모델 파일을 찾을 수 없습니다: {checkpoint_path}\")\n",
    "    \n",
    "    checkpoint = torch.load(checkpoint_path, map_location=torch.device('cpu'))\n",
    "    model.load_state_dict(checkpoint['model_state_dict'])\n",
    "    model.eval()\n",
    "    \n",
    "    # 토크나이저 로드\n",
    "    tokenizer = AutoTokenizer.from_pretrained(\"klue/bert-base\")\n",
    "    \n",
    "    # 레이블 매핑 정의\n",
    "    도수_매핑 = {0: '낮은', 1: '중간', 2: '높은'}\n",
    "    술종류_매핑 = {0: '칵테일', 1: '럼', 2: '위스키', 3: '보드카'}\n",
    "    맛_매핑 = {0: '달달한', 1: '쓴맛', 2: '상큼한', 3: '신맛', 4: '부드러운'}\n",
    "    \n",
    "    def predict(sentence):\n",
    "        try:\n",
    "            # 입력 문장 전처리\n",
    "            inputs = tokenizer(\n",
    "                sentence,\n",
    "                padding=True,\n",
    "                truncation=True,\n",
    "                max_length=512,\n",
    "                return_tensors=\"pt\"\n",
    "            )\n",
    "            \n",
    "            # 추론\n",
    "            with torch.no_grad():\n",
    "                outputs = model(\n",
    "                    input_ids=inputs['input_ids'],\n",
    "                    attention_mask=inputs['attention_mask']\n",
    "                )\n",
    "            \n",
    "            # 예측값 계산\n",
    "            도수_pred = torch.argmax(outputs['도수'], dim=1).item()\n",
    "            술종류_pred = torch.argmax(outputs['술종류'], dim=1).item()\n",
    "            맛_pred = torch.argmax(outputs['맛'], dim=1).item()\n",
    "            \n",
    "            return {\n",
    "                '도수': 도수_매핑[도수_pred],\n",
    "                '술종류': 술종류_매핑[술종류_pred],\n",
    "                '맛': 맛_매핑[맛_pred]\n",
    "            }\n",
    "        except Exception as e:\n",
    "            print(f\"예측 중 오류 발생: {str(e)}\")\n",
    "            return None\n",
    "\n",
    "    # 테스트\n",
    "    test_sentences = [\n",
    "        \"도수가 낮고 상큼한 칵테일 추천해줘.\",\n",
    "        \"달달하고 도수 높은 럼 추천해줘.\",\n",
    "        \"부드럽고 도수 중간인 위스키 추천해줘.\"\n",
    "    ]\n",
    "\n",
    "    for sentence in test_sentences:\n",
    "        result = predict(sentence)\n",
    "        if result:\n",
    "            print(f\"\\n입력 문장: {sentence}\")\n",
    "            print(f\"예측 결과:\")\n",
    "            print(f\"- 도수: {result['도수']}\")\n",
    "            print(f\"- 술종류: {result['술종류']}\")\n",
    "            print(f\"- 맛: {result['맛']}\")\n",
    "\n",
    "except Exception as e:\n",
    "    print(f\"초기화 중 오류 발생: {str(e)}\")"
   ]
  }
 ],
 "metadata": {
  "kernelspec": {
   "display_name": "myenv",
   "language": "python",
   "name": "python3"
  },
  "language_info": {
   "codemirror_mode": {
    "name": "ipython",
    "version": 3
   },
   "file_extension": ".py",
   "mimetype": "text/x-python",
   "name": "python",
   "nbconvert_exporter": "python",
   "pygments_lexer": "ipython3",
   "version": "3.12.4"
  }
 },
 "nbformat": 4,
 "nbformat_minor": 2
}
