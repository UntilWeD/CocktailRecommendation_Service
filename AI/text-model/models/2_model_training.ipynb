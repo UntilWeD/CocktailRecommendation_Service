{
 "cells": [
  {
   "cell_type": "code",
   "execution_count": 2,
   "metadata": {},
   "outputs": [],
   "source": [
    "from transformers import AutoModelForSequenceClassification, AutoTokenizer\n",
    "import torch\n",
    "from torch.utils.data import DataLoader\n",
    "import pandas as pd"
   ]
  },
  {
   "cell_type": "code",
   "execution_count": 5,
   "metadata": {},
   "outputs": [
    {
     "name": "stderr",
     "output_type": "stream",
     "text": [
      "Some weights of BertForSequenceClassification were not initialized from the model checkpoint at bert-base-uncased and are newly initialized: ['classifier.bias', 'classifier.weight']\n",
      "You should probably TRAIN this model on a down-stream task to be able to use it for predictions and inference.\n"
     ]
    },
    {
     "name": "stdout",
     "output_type": "stream",
     "text": [
      "Epoch 0, Loss: 1.0221892595291138\n",
      "Epoch 0, Loss: 1.0141199827194214\n",
      "Epoch 0, Loss: 1.1963474750518799\n",
      "Epoch 0, Loss: 0.7205637693405151\n",
      "Epoch 0, Loss: 1.0614850521087646\n",
      "Epoch 0, Loss: 1.0262771844863892\n",
      "Epoch 0, Loss: 0.6274885535240173\n",
      "Epoch 0, Loss: 1.1306934356689453\n",
      "Epoch 0, Loss: 1.0066180229187012\n",
      "Epoch 0, Loss: 1.7400685548782349\n",
      "Epoch 0, Loss: 1.096107006072998\n",
      "Epoch 0, Loss: 1.596657156944275\n",
      "Epoch 0, Loss: 0.5517222881317139\n",
      "Epoch 1, Loss: 1.4064888954162598\n",
      "Epoch 1, Loss: 1.6807315349578857\n",
      "Epoch 1, Loss: 0.9380838871002197\n",
      "Epoch 1, Loss: 0.6744894981384277\n",
      "Epoch 1, Loss: 1.1895222663879395\n",
      "Epoch 1, Loss: 1.6452815532684326\n",
      "Epoch 1, Loss: 0.9308376312255859\n",
      "Epoch 1, Loss: 1.3501454591751099\n",
      "Epoch 1, Loss: 0.9554793834686279\n",
      "Epoch 1, Loss: 0.9371931552886963\n",
      "Epoch 1, Loss: 0.8474345803260803\n",
      "Epoch 1, Loss: 0.8035675287246704\n",
      "Epoch 1, Loss: 1.1847883462905884\n",
      "Epoch 2, Loss: 0.9140991568565369\n",
      "Epoch 2, Loss: 0.8866846561431885\n",
      "Epoch 2, Loss: 0.8122780323028564\n",
      "Epoch 2, Loss: 1.209359884262085\n",
      "Epoch 2, Loss: 0.8345986604690552\n",
      "Epoch 2, Loss: 1.3485901355743408\n",
      "Epoch 2, Loss: 1.1938923597335815\n",
      "Epoch 2, Loss: 0.8712137341499329\n",
      "Epoch 2, Loss: 0.6951684951782227\n",
      "Epoch 2, Loss: 1.223131775856018\n",
      "Epoch 2, Loss: 1.6223818063735962\n",
      "Epoch 2, Loss: 0.951399564743042\n",
      "Epoch 2, Loss: 1.3186261653900146\n",
      "모델 저장 완료\n"
     ]
    }
   ],
   "source": [
    "# 모델과 토크나이저 로드\n",
    "model = AutoModelForSequenceClassification.from_pretrained(\"bert-base-uncased\", num_labels=3)\n",
    "tokenizer = AutoTokenizer.from_pretrained(\"bert-base-uncased\")\n",
    "\n",
    "# 데이터 로드\n",
    "data = pd.read_csv(r\"C:\\Users\\user\\OneDrive\\바탕 화면\\project\\OSS_Project\\AI\\text-model\\data\\processed_data.csv\")\n",
    "inputs = tokenizer(list(data['입력 문장']), padding=True, truncation=True, return_tensors=\"pt\")\n",
    "\n",
    "# 도수 레이블 매핑\n",
    "도수_매핑 = {'낮은': 0, '중간': 1, '높은': 2}\n",
    "labels = torch.tensor([도수_매핑[도수] for 도수 in data['도수']])\n",
    "\n",
    "# 데이터셋 생성\n",
    "dataset = torch.utils.data.TensorDataset(inputs['input_ids'], inputs['attention_mask'], labels)\n",
    "dataloader = DataLoader(dataset, batch_size=2, shuffle=True)\n",
    "\n",
    "# 모델 학습 설정\n",
    "optimizer = torch.optim.AdamW(model.parameters(), lr=5e-5)\n",
    "loss_fn = torch.nn.CrossEntropyLoss()\n",
    "\n",
    "# 학습 루프\n",
    "for epoch in range(3):\n",
    "    for batch in dataloader:\n",
    "        input_ids, attention_mask, labels = batch\n",
    "        outputs = model(input_ids=input_ids, attention_mask=attention_mask, labels=labels)\n",
    "        loss = outputs.loss\n",
    "        optimizer.zero_grad()\n",
    "        loss.backward()\n",
    "        optimizer.step()\n",
    "        print(f\"Epoch {epoch}, Loss: {loss.item()}\")\n",
    "\n",
    "# 모델 저장\n",
    "model.save_pretrained(\"models/bert_model/\")\n",
    "tokenizer.save_pretrained(\"models/bert_model/\")\n",
    "print(\"모델 저장 완료\")\n"
   ]
  }
 ],
 "metadata": {
  "kernelspec": {
   "display_name": "myenv",
   "language": "python",
   "name": "python3"
  },
  "language_info": {
   "codemirror_mode": {
    "name": "ipython",
    "version": 3
   },
   "file_extension": ".py",
   "mimetype": "text/x-python",
   "name": "python",
   "nbconvert_exporter": "python",
   "pygments_lexer": "ipython3",
   "version": "3.12.4"
  }
 },
 "nbformat": 4,
 "nbformat_minor": 2
}
