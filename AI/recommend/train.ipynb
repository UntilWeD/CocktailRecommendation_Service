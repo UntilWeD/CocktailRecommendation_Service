{
 "cells": [
  {
   "cell_type": "code",
   "execution_count": 1,
   "metadata": {},
   "outputs": [
    {
     "name": "stdout",
     "output_type": "stream",
     "text": [
      "Using device: cuda\n",
      "Current GPU: NVIDIA GeForce RTX 3060\n"
     ]
    }
   ],
   "source": [
    "import torch\n",
    "# 디바이스 설정\n",
    "device = torch.device('cuda' if torch.cuda.is_available() else 'cpu')\n",
    "print(f\"Using device: {device}\")\n",
    "if torch.cuda.is_available():\n",
    "    print(f\"Current GPU: {torch.cuda.get_device_name()}\")"
   ]
  },
  {
   "cell_type": "code",
   "execution_count": 4,
   "metadata": {},
   "outputs": [
    {
     "name": "stdout",
     "output_type": "stream",
     "text": [
      "Using device: cuda\n",
      "Epoch [10/100], Loss: 0.0227\n",
      "Epoch [20/100], Loss: 0.0196\n",
      "Epoch [30/100], Loss: 0.0171\n",
      "Epoch [40/100], Loss: 0.0146\n",
      "Epoch [50/100], Loss: 0.0120\n",
      "Epoch [60/100], Loss: 0.0097\n",
      "Epoch [70/100], Loss: 0.0077\n",
      "Epoch [80/100], Loss: 0.0061\n",
      "Epoch [90/100], Loss: 0.0049\n",
      "Epoch [100/100], Loss: 0.0040\n",
      "Model saved to cocktail_recommender.pt\n",
      "Recommended Cocktails:\n",
      "A1: 0.00\n"
     ]
    },
    {
     "name": "stderr",
     "output_type": "stream",
     "text": [
      "C:\\Users\\user\\AppData\\Local\\Temp\\ipykernel_21144\\3150378286.py:80: FutureWarning: You are using `torch.load` with `weights_only=False` (the current default value), which uses the default pickle module implicitly. It is possible to construct malicious pickle data which will execute arbitrary code during unpickling (See https://github.com/pytorch/pytorch/blob/main/SECURITY.md#untrusted-models for more details). In a future release, the default value for `weights_only` will be flipped to `True`. This limits the functions that could be executed during unpickling. Arbitrary objects will no longer be allowed to be loaded via this mode unless they are explicitly allowlisted by the user via `torch.serialization.add_safe_globals`. We recommend you start setting `weights_only=True` for any use case where you don't have full control of the loaded file. Please open an issue on GitHub for any issues related to this experimental feature.\n",
      "  self.model.load_state_dict(torch.load(model_path))\n"
     ]
    }
   ],
   "source": [
    "import pandas as pd\n",
    "import ast\n",
    "import pickle\n",
    "import torch\n",
    "from torch import nn, optim\n",
    "from sklearn.feature_extraction.text import CountVectorizer\n",
    "\n",
    "# 칵테일 추천 모델 클래스 정의\n",
    "class CocktailRecommendationModel(nn.Module):\n",
    "    def __init__(self, input_size, hidden_size):\n",
    "        super(CocktailRecommendationModel, self).__init__()\n",
    "        self.fc1 = nn.Linear(input_size, hidden_size)  # 입력층 -> 은닉층\n",
    "        self.fc2 = nn.Linear(hidden_size, input_size)  # 은닉층 -> 출력층\n",
    "        self.relu = nn.ReLU()  # 활성화 함수\n",
    "\n",
    "    def forward(self, x):\n",
    "        x = self.relu(self.fc1(x))\n",
    "        x = self.fc2(x)\n",
    "        return x\n",
    "\n",
    "# 데이터 전처리 함수\n",
    "def clean_ingredients(ingredients_str):\n",
    "    try:\n",
    "        ingredients_list = ast.literal_eval(ingredients_str)\n",
    "        return [ingredient.strip().lower().replace(' ', '') for ingredient in ingredients_list]\n",
    "    except Exception:\n",
    "        return []\n",
    "\n",
    "def preprocess_data(file_path):\n",
    "    data = pd.read_csv(file_path)\n",
    "    data['cleaned_ingredients'] = data['ingredients'].apply(clean_ingredients)\n",
    "    data['ingredient_text'] = data['cleaned_ingredients'].apply(lambda x: ' '.join(x))\n",
    "    vectorizer = CountVectorizer()\n",
    "    ingredient_vectors = vectorizer.fit_transform(data['ingredient_text'])\n",
    "    return data, vectorizer, ingredient_vectors\n",
    "\n",
    "# 학습 함수\n",
    "def train_model(ingredient_vectors, save_model_path, save_vectorizer_path, hidden_size=128, epochs=100, learning_rate=0.001):\n",
    "    # 디바이스 설정\n",
    "    device = torch.device(\"cuda\" if torch.cuda.is_available() else \"cpu\")\n",
    "    print(f\"Using device: {device}\")\n",
    "\n",
    "    # 모델 초기화\n",
    "    input_size = ingredient_vectors.shape[1]\n",
    "    model = CocktailRecommendationModel(input_size, hidden_size).to(device)\n",
    "    optimizer = optim.Adam(model.parameters(), lr=learning_rate)\n",
    "    criterion = nn.MSELoss()\n",
    "\n",
    "    # 데이터 텐서로 변환\n",
    "    X = torch.tensor(ingredient_vectors.toarray(), dtype=torch.float32).to(device)\n",
    "\n",
    "    # 학습 루프\n",
    "    for epoch in range(epochs):\n",
    "        model.train()\n",
    "        optimizer.zero_grad()\n",
    "        output = model(X)\n",
    "        loss = criterion(output, X)\n",
    "        loss.backward()\n",
    "        optimizer.step()\n",
    "        if (epoch + 1) % 10 == 0:\n",
    "            print(f\"Epoch [{epoch + 1}/{epochs}], Loss: {loss.item():.4f}\")\n",
    "\n",
    "    # 모델 저장\n",
    "    torch.save(model.state_dict(), save_model_path)\n",
    "    print(f\"Model saved to {save_model_path}\")\n",
    "\n",
    "    # Vectorizer 저장\n",
    "    with open(save_vectorizer_path, \"wb\") as f:\n",
    "        pickle.dump(vectorizer, f)\n",
    "    print(f\"Vectorizer saved to {save_vectorizer_path}\")\n",
    "\n",
    "# 학습 실행\n",
    "if __name__ == \"__main__\":\n",
    "    dataset_path = r\"D:\\project\\OSS_Project\\AI\\recommend\\data\\final_cocktails.csv\"\n",
    "    model_save_path = r\"D:\\project\\OSS_Project\\AI\\recommend\\cocktail_recommender.pt\"\n",
    "\n",
    "    vectorizer_save_path = \"vectorizer.pkl\"\n",
    "\n",
    "    # 데이터 전처리\n",
    "    data, vectorizer, ingredient_vectors = preprocess_data(dataset_path)\n",
    "\n",
    "    # 모델 학습 및 저장\n",
    "    train_model(ingredient_vectors, model_save_path, vectorizer_save_path)\n"
   ]
  }
 ],
 "metadata": {
  "kernelspec": {
   "display_name": "myenv",
   "language": "python",
   "name": "python3"
  },
  "language_info": {
   "codemirror_mode": {
    "name": "ipython",
    "version": 3
   },
   "file_extension": ".py",
   "mimetype": "text/x-python",
   "name": "python",
   "nbconvert_exporter": "python",
   "pygments_lexer": "ipython3",
   "version": "3.12.4"
  }
 },
 "nbformat": 4,
 "nbformat_minor": 2
}
